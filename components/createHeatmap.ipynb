{
 "cells": [
  {
   "cell_type": "code",
   "execution_count": null,
   "metadata": {},
   "outputs": [],
   "source": [
    "import pandas as pd\n",
    "import matplotlib.pyplot as plt\n",
    "import numpy as np\n",
    "import seaborn as sns "
   ]
  },
  {
   "cell_type": "code",
   "execution_count": null,
   "metadata": {},
   "outputs": [],
   "source": [
    "def createHeatmap(file, title: str, names: list, export = False):\n",
    "    df = pd.read_csv(file, sep='\\t')\n",
    "    rowInd = df.iloc[:,0]\n",
    "    df = df.iloc[:,5:]\n",
    "\n",
    "    df = df.sort_values('cluster')\n",
    "    df.reset_index(inplace=True)\n",
    "    df.drop(df.columns[0],axis=1, inplace=True)\n",
    "\n",
    "    clusterlines = [0]\n",
    "    for i in range(3):\n",
    "        inDf = df[df['cluster']==i]\n",
    "        clusterlines.append(inDf.index[-1])\n",
    "    \n",
    "    midpts = []\n",
    "    for i in range(1,len(clusterlines)):\n",
    "        midpt = (clusterlines[i] + clusterlines[i-1]) // 2\n",
    "        midpts.append(midpt)\n",
    "    \n",
    "    clusterlines = clusterlines[1:]\n",
    "\n",
    "    labels = [f'cluster {i}' for i in range(1,len((df['cluster']).unique()) + 1)]\n",
    "    #print(labels)\n",
    "\n",
    "    #print(clusterlines)\n",
    "    #display(df)\n",
    "    #df.columns = names\n",
    "    #display(df.iloc[:, 0])\n",
    "\n",
    "    # HEAT MAP\n",
    "\n",
    "    plt.figure(figsize= (1080,1080))\n",
    "    fig, (ax1, ax2, ax3, ax4) = plt.subplots(1,4)\n",
    "    axes = (ax1, ax2, ax3, ax4)\n",
    "\n",
    "    newdf = pd.DataFrame(df.iloc[:,0], index=rowInd)\n",
    "    h1 = sns.heatmap(newdf, cmap='plasma',ax=ax1, cbar=False)\n",
    "    h1.set_yticks(midpts)\n",
    "    h1.set_yticklabels(labels)\n",
    "    h1.set_ylabel('')\n",
    "\n",
    "    newdf = pd.DataFrame(df.iloc[:,1], index=rowInd)\n",
    "    h2 = sns.heatmap(newdf, cmap='plasma', ax=ax2, cbar=False)\n",
    "    h2.set_yticks([])\n",
    "    h2.set_ylabel('')\n",
    "\n",
    "    newdf = pd.DataFrame(df.iloc[:,2], index=rowInd)\n",
    "    h3 = sns.heatmap(newdf, cmap='plasma', ax=ax3, cbar=False)\n",
    "    h3.set_yticks([])\n",
    "    h3.set_ylabel('')\n",
    "\n",
    "    newdf = pd.DataFrame(df.iloc[:,3], index=rowInd)\n",
    "    h4 = sns.heatmap(newdf, cmap='plasma', ax=ax4, cbar=True, cbar_kws={'label': 'Normalized Mean TMM value'})\n",
    "    h4.set_yticks([])\n",
    "    h4.set_ylabel('')\n",
    "\n",
    "    for ax in axes:\n",
    "        ax.hlines(clusterlines, *ax.get_xlim(), color='white')\n",
    "    \n",
    "    \n",
    "    # CLUSTER MAP\n",
    "    # lut = dict(zip((df['cluster']).unique(), 'rgb'))\n",
    "    # row_clrs = (df['cluster']).map(lut)\n",
    "\n",
    "    # cmap = sns.clustermap(df.iloc[:, :], col_cluster=False, row_cluster=True, row_colors=row_clrs)\n",
    "    # cmap.ax_heatmap.set_yticks([])\n",
    "\n",
    "    plt.tight_layout()\n",
    "    if export:\n",
    "        plt.savefig(title, format='pdf', dpi=1080)\n",
    "\n",
    "    plt.show()\n"
   ]
  },
  {
   "cell_type": "code",
   "execution_count": null,
   "metadata": {},
   "outputs": [],
   "source": [
    "names = ['pil', 'pcnB', 'pil-pcnB', 'WT']\n",
    "createHeatmap('/home/derfelt/Auerbuch-Stone-cluster-analysis/cluster data/37C_clusters.tsv', 'heatmaps/37C_w_normalizer.pdf', names, export=True)"
   ]
  }
 ],
 "metadata": {
  "kernelspec": {
   "display_name": "Python 3",
   "language": "python",
   "name": "python3"
  },
  "language_info": {
   "codemirror_mode": {
    "name": "ipython",
    "version": 3
   },
   "file_extension": ".py",
   "mimetype": "text/x-python",
   "name": "python",
   "nbconvert_exporter": "python",
   "pygments_lexer": "ipython3",
   "version": "3.11.1"
  },
  "orig_nbformat": 4
 },
 "nbformat": 4,
 "nbformat_minor": 2
}
