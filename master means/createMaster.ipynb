{
 "cells": [
  {
   "cell_type": "code",
   "execution_count": 101,
   "metadata": {},
   "outputs": [],
   "source": [
    "import pandas as pd\n",
    "import numpy as np"
   ]
  },
  {
   "cell_type": "code",
   "execution_count": 102,
   "metadata": {},
   "outputs": [],
   "source": [
    "def getDescription(file):\n",
    "    df = pd.read_csv(file, sep='\\t')\n",
    "    df = df.drop(df.columns[4:], axis=1)\n",
    "    df = df.drop(df.columns[0], axis=1)\n",
    "    return df"
   ]
  },
  {
   "cell_type": "code",
   "execution_count": 103,
   "metadata": {},
   "outputs": [],
   "source": [
    "def createMaster():\n",
    "    finalDF = getDescription('26C_mean_masterFile.tsv')\n",
    "    cond1 = pd.read_csv('26C_mean_masterFile.tsv', sep='\\t')\n",
    "    cond2 = pd.read_csv('37C_mean_masterFile.tsv', sep='\\t')\n",
    "\n",
    "    cond1 = cond1.drop(cond1.columns[:5], axis=1)\n",
    "    cond2 = cond2.drop(cond2.columns[:5], axis=1)\n",
    "\n",
    "    oldCols = cond1.columns.copy()\n",
    "    for oldName in oldCols:\n",
    "        cond1.rename(columns = {oldName : oldName+'_26C'}, inplace = True)\n",
    "    \n",
    "    oldCols = cond2.columns.copy()\n",
    "    for oldName in oldCols:\n",
    "        cond2.rename(columns = {oldName : oldName+'_37C'}, inplace = True)\n",
    "    finalDF = pd.concat([finalDF, cond1, cond2], axis=1)\n",
    "    finalDF.insert(3, ' ', '')\n",
    "    finalDF.insert(8, '  ', '')\n",
    "    return finalDF"
   ]
  },
  {
   "cell_type": "code",
   "execution_count": 104,
   "metadata": {},
   "outputs": [],
   "source": [
    "def main():\n",
    "    createMaster().to_csv('masterTMM.tsv',sep='\\t')"
   ]
  },
  {
   "cell_type": "code",
   "execution_count": 105,
   "metadata": {},
   "outputs": [],
   "source": [
    "if __name__ == '__main__':\n",
    "    main()\n",
    "        "
   ]
  }
 ],
 "metadata": {
  "kernelspec": {
   "display_name": "Python 3",
   "language": "python",
   "name": "python3"
  },
  "language_info": {
   "codemirror_mode": {
    "name": "ipython",
    "version": 3
   },
   "file_extension": ".py",
   "mimetype": "text/x-python",
   "name": "python",
   "nbconvert_exporter": "python",
   "pygments_lexer": "ipython3",
   "version": "3.11.1"
  },
  "orig_nbformat": 4
 },
 "nbformat": 4,
 "nbformat_minor": 2
}
